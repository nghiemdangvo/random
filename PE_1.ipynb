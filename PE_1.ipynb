{
 "cells": [
  {
   "cell_type": "markdown",
   "metadata": {},
   "source": [
    "## Project Euler - Problem #1"
   ]
  },
  {
   "cell_type": "markdown",
   "metadata": {},
   "source": [
    "### Multiples of 3 or 5\n",
    "\n",
    "If we list all the natural numbers below 10, that are multiples of _3_ or _5_, we get 3, 5, 6 and 9. The sum of these multiples is `23`.\n",
    "\n",
    "Find the sum of all the multiples of _3_ or _5_ below 1000."
   ]
  },
  {
   "cell_type": "code",
   "execution_count": 1,
   "metadata": {},
   "outputs": [
    {
     "name": "stdout",
     "output_type": "stream",
     "text": [
      "23\n",
      "233168\n"
     ]
    }
   ],
   "source": [
    "def DivisibleSum(x):\n",
    "    sum = 0\n",
    "    for i in range(3, x):\n",
    "        if i % 3 == 0 or i % 5 == 0:\n",
    "            sum += i\n",
    "        else:\n",
    "            sum = sum\n",
    "    return sum\n",
    "\n",
    "print(DivisibleSum(10))\n",
    "print(DivisibleSum(1000))"
   ]
  },
  {
   "cell_type": "markdown",
   "metadata": {},
   "source": [
    "This is my original solution. First, start off with a container (empty), create a loop for every integers from 3 to the last number of the range. Within this loop, for each turn that encountering a divisible number for _3_ or _5_, then add the value to the container, otherwise leave it alone. Finally return the value at the end of the loop."
   ]
  },
  {
   "cell_type": "code",
   "execution_count": 2,
   "metadata": {},
   "outputs": [
    {
     "name": "stdout",
     "output_type": "stream",
     "text": [
      "23\n"
     ]
    }
   ],
   "source": [
    "def DivisibleSum2(x):\n",
    "    sum = 0\n",
    "    for i in range(3,x):\n",
    "        if i % 3 == 0 or i % 5 == 0:\n",
    "            sum += i\n",
    "        # else then ignore\n",
    "    return sum\n",
    "\n",
    "print(DivisibleSum2(10))"
   ]
  },
  {
   "cell_type": "markdown",
   "metadata": {},
   "source": [
    "Then I found another solution which almost identical to my own answer, but without the *else* argument, probably making it even more concise. Base on what I can understand, when conditions for *if* statements were _FALSE_, then do nothing."
   ]
  },
  {
   "cell_type": "markdown",
   "metadata": {},
   "source": [
    "While this problem is just the entry point to the vast forrest of challenges lying ahead, I still quite gratified with my own solution being not so far off from the others. March on to the next one."
   ]
  }
 ],
 "metadata": {
  "kernelspec": {
   "display_name": "Python 3",
   "language": "python",
   "name": "python3"
  },
  "language_info": {
   "codemirror_mode": {
    "name": "ipython",
    "version": 3
   },
   "file_extension": ".py",
   "mimetype": "text/x-python",
   "name": "python",
   "nbconvert_exporter": "python",
   "pygments_lexer": "ipython3",
   "version": "3.10.7"
  }
 },
 "nbformat": 4,
 "nbformat_minor": 2
}
